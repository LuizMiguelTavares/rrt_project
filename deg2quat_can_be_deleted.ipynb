{
 "cells": [
  {
   "cell_type": "code",
   "execution_count": 5,
   "metadata": {},
   "outputs": [
    {
     "name": "stdout",
     "output_type": "stream",
     "text": [
      "[ 0.         -0.         -0.98480775 -0.17364818]\n"
     ]
    }
   ],
   "source": [
    "import tf\n",
    "from math import radians\n",
    "\n",
    "# Euler angles in degrees (adjust these values to your needs)\n",
    "roll_deg = 0  # Replace with your roll angle in degrees\n",
    "pitch_deg = 0   # Replace with your pitch angle in degrees\n",
    "yaw_deg = -20 -90 -90   # Replace with your yaw angle in degrees\n",
    "\n",
    "# Convert degrees to radians\n",
    "roll = radians(roll_deg)\n",
    "pitch = radians(pitch_deg)\n",
    "yaw = radians(yaw_deg)\n",
    "\n",
    "# Create quaternion from Euler angles\n",
    "quaternion = tf.transformations.quaternion_from_euler(roll, pitch, yaw)\n",
    "\n",
    "print(quaternion)"
   ]
  }
 ],
 "metadata": {
  "kernelspec": {
   "display_name": "Python 3",
   "language": "python",
   "name": "python3"
  },
  "language_info": {
   "codemirror_mode": {
    "name": "ipython",
    "version": 3
   },
   "file_extension": ".py",
   "mimetype": "text/x-python",
   "name": "python",
   "nbconvert_exporter": "python",
   "pygments_lexer": "ipython3",
   "version": "3.8.10"
  }
 },
 "nbformat": 4,
 "nbformat_minor": 2
}
