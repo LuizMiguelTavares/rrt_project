{
 "cells": [
  {
   "cell_type": "code",
   "execution_count": 2,
   "metadata": {},
   "outputs": [
    {
     "name": "stdout",
     "output_type": "stream",
     "text": [
      "Starting Point: (588, 588)\n",
      "Goal Point: (620, 12)\n"
     ]
    },
    {
     "name": "stderr",
     "output_type": "stream",
     "text": [
      "[ WARN:0@326.191] global loadsave.cpp:759 imwrite_ imwrite_('/result_image.png'): can't open file for writing: permission denied\n"
     ]
    }
   ],
   "source": [
    "import cv2\n",
    "import numpy as np\n",
    "\n",
    "# Load the image\n",
    "image = cv2.imread('mipui.png', cv2.IMREAD_COLOR)\n",
    "\n",
    "# Check if image is loaded\n",
    "if image is None:\n",
    "    print(\"Error: could not load image\")\n",
    "else:\n",
    "    # Convert image to grayscale\n",
    "    gray_image = cv2.cvtColor(image, cv2.COLOR_BGR2GRAY)\n",
    "\n",
    "    # Threshold the image to isolate obstacles (gray areas)\n",
    "    # Assuming gray obstacles are in the range of 127-255 in grayscale\n",
    "    _, obstacles = cv2.threshold(gray_image, 126, 255, cv2.THRESH_BINARY_INV)\n",
    "\n",
    "    # Convert image to HSV for better color segmentation\n",
    "    hsv_image = cv2.cvtColor(image, cv2.COLOR_BGR2HSV)\n",
    "\n",
    "    # Define color thresholds in HSV\n",
    "    # These thresholds may need to be adjusted for your specific image\n",
    "    lower_green = np.array([36, 100, 100])\n",
    "    upper_green = np.array([86, 255, 255])\n",
    "    lower_red = np.array([0, 100, 100])\n",
    "    upper_red = np.array([10, 255, 255])\n",
    "\n",
    "    # Create masks for colors\n",
    "    green_mask = cv2.inRange(hsv_image, lower_green, upper_green)\n",
    "    red_mask = cv2.inRange(hsv_image, lower_red, upper_red)\n",
    "\n",
    "    # Find centroids of the starting point and goal\n",
    "    # We use the masks to find contours and then calculate the centroid\n",
    "    green_contours, _ = cv2.findContours(green_mask, cv2.RETR_TREE, cv2.CHAIN_APPROX_SIMPLE)\n",
    "    red_contours, _ = cv2.findContours(red_mask, cv2.RETR_TREE, cv2.CHAIN_APPROX_SIMPLE)\n",
    "\n",
    "    # Assuming there is only one starting point and one goal\n",
    "    starting_point = tuple(green_contours[0][0][0])\n",
    "    goal_point = tuple(red_contours[0][0][0])\n",
    "\n",
    "    # Output the locations\n",
    "    print(f\"Starting Point: {starting_point}\")\n",
    "    print(f\"Goal Point: {goal_point}\")\n",
    "\n",
    "    # Display the results on the image\n",
    "    result_image = image.copy()\n",
    "    # cv2.drawContours(result_image, green_contours, -1, (0, 255, 0), 3)\n",
    "    # cv2.drawContours(result_image, red_contours, -1, (0, 0, 255), 3)\n",
    "    cv2.imshow('Result', result_image)\n",
    "    cv2.waitKey(0)\n",
    "    cv2.destroyAllWindows()\n",
    "\n",
    "    # Save the result image if needed\n",
    "    cv2.imwrite('/result_image.png', result_image)\n"
   ]
  },
  {
   "cell_type": "code",
   "execution_count": 2,
   "metadata": {},
   "outputs": [
    {
     "data": {
      "text/plain": [
       "True"
      ]
     },
     "execution_count": 2,
     "metadata": {},
     "output_type": "execute_result"
    }
   ],
   "source": [
    "import cv2\n",
    "import numpy as np\n",
    "\n",
    "# Load the image\n",
    "image = cv2.imread('/home/miguel/rrt_cpp/images/mipui.png', cv2.IMREAD_COLOR)\n",
    "\n",
    "# Parameters for the grid\n",
    "grid_width = 150\n",
    "grid_height = 150\n",
    "cell_width = image.shape[1] // grid_width\n",
    "cell_height = image.shape[0] // grid_height\n",
    "\n",
    "# Create a blank grid image\n",
    "grid_image = np.full((image.shape[0], image.shape[1], 3), 255, dtype=np.uint8)\n",
    "\n",
    "# Example obstacle positions (You would calculate these based on your obstacle detection logic)\n",
    "obstacle_cells = [(1, 2), (3, 4)]  # List of (x, y) tuples\n",
    "\n",
    "# Draw the grid cells\n",
    "for x, y in obstacle_cells:\n",
    "    top_left_x = x * cell_width\n",
    "    top_left_y = y * cell_height\n",
    "    bottom_right_x = (x + 1) * cell_width\n",
    "    bottom_right_y = (y + 1) * cell_height\n",
    "    cv2.rectangle(grid_image, (top_left_x, top_left_y), (bottom_right_x, bottom_right_y), (0, 0, 0), -1)\n",
    "\n",
    "# Save the grid image\n",
    "cv2.imwrite('path_to_grid_image.png', grid_image)"
   ]
  }
 ],
 "metadata": {
  "kernelspec": {
   "display_name": "Python 3",
   "language": "python",
   "name": "python3"
  },
  "language_info": {
   "codemirror_mode": {
    "name": "ipython",
    "version": 3
   },
   "file_extension": ".py",
   "mimetype": "text/x-python",
   "name": "python",
   "nbconvert_exporter": "python",
   "pygments_lexer": "ipython3",
   "version": "3.8.10"
  }
 },
 "nbformat": 4,
 "nbformat_minor": 2
}
