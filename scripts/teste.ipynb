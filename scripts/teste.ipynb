{
 "cells": [
  {
   "cell_type": "code",
   "execution_count": 184,
   "metadata": {},
   "outputs": [],
   "source": [
    "import numpy as np\n",
    "\n",
    "class ObstacleAvoidance:\n",
    "    def __init__(self, n, a, b, k, lambda_):\n",
    "        if n == 0 or a == 0 or b == 0 or k == 0:\n",
    "            raise ValueError(\"The obstacle detection constants must be declared\")\n",
    "        self.n = n\n",
    "        self.a = a\n",
    "        self.b = b\n",
    "        self.k = k\n",
    "        self.lambda_ = lambda_\n",
    "        self.gamma = 1.0\n",
    "        self.a_aux = None\n",
    "        self.J = np.zeros((2, 1))\n",
    "        self.V = 0\n",
    "\n",
    "    def calculate_V(self, x_diff, y_diff):\n",
    "        return np.exp(-(np.power(x_diff, self.n)) / (self.a*self.gamma)) * np.exp(-np.power(y_diff, self.n) / self.b)\n",
    "\n",
    "    def Calculate_J(self, v, x_diff, y_diff):\n",
    "        result = np.zeros(2)\n",
    "        result[0] = -v * self.n * np.power(x_diff, self.n - 1) / (self.a * self.gamma)\n",
    "        result[1] = -v * self.n * np.power(y_diff, self.n - 1) / self.b\n",
    "        return result\n",
    "\n",
    "    def obstacle_avoidance(self, robot_point, obstacle_point, gamma=1.0):\n",
    "        x_diff = robot_point[0] - obstacle_point[0]\n",
    "        y_diff = robot_point[1] - obstacle_point[1]\n",
    "        \n",
    "        if gamma == 0:\n",
    "            gamma = 0.001\n",
    "        \n",
    "        self.gamma = gamma\n",
    "\n",
    "        v = self.calculate_V(x_diff, y_diff)\n",
    "        self.V = v\n",
    "\n",
    "        J_ob = self.Calculate_J(v, x_diff, y_diff)\n",
    "\n",
    "        J = np.array([[J_ob[0], J_ob[1]]])\n",
    "\n",
    "        self.J = J\n",
    "\n",
    "        Pseudo_inv_J = J.T @ np.linalg.inv(J @ J.T + self.lambda_)\n",
    "\n",
    "        X_dot_obs = -Pseudo_inv_J * self.k * v\n",
    "\n",
    "        x_dot_obs = X_dot_obs[0]\n",
    "        y_dot_obs = X_dot_obs[1]\n",
    "\n",
    "        return x_dot_obs, y_dot_obs\n",
    "\n",
    "    def get_J(self):\n",
    "        return self.J\n",
    "\n",
    "    def get_v(self):\n",
    "        return self.V\n",
    "\n",
    "    \n",
    "robot_point = np.array([0, 0])\n",
    "obstacle_point = np.array([0.5, 0.7])\n",
    "\n",
    "\n",
    "obs_avoidance = ObstacleAvoidance(2, 0.3, 0.3, 0.15, 0.01)\n",
    "\n",
    "\n",
    "# x_obs = obs_avoidance.obstacle_avoidance(robot_point, obstacle_point, 1.0)\n",
    "# print(x_obs)"
   ]
  },
  {
   "cell_type": "code",
   "execution_count": 185,
   "metadata": {},
   "outputs": [
    {
     "name": "stdout",
     "output_type": "stream",
     "text": [
      "Gamma = 1.0\n",
      "\n",
      "X_obs = (array([-5.77033973e-06]), array([-0.]))\n",
      "\n",
      "V = 0.00024036947641951407\n",
      "\n",
      "J = [[ 0.00801232 -0.        ]]\n",
      "\n"
     ]
    }
   ],
   "source": [
    "robot_point = np.array([0, 0])\n",
    "obstacle_point = np.array([0.5, 0.0])\n",
    "\n",
    "width = 0.1\n",
    "\n",
    "margin = 0.3\n",
    "\n",
    "if np.abs(robot_point[1] - obstacle_point[1]) < width / 2:\n",
    "    gamma = 1.0\n",
    "elif np.abs(robot_point[1] - obstacle_point[1]) < width / 2 + margin:\n",
    "    gamma = 1.0 - (np.abs(robot_point[1] - obstacle_point[1]) - width / 2) / margin\n",
    "else:\n",
    "    gamma = 0.0\n",
    "\n",
    "print(f\"Gamma = {gamma}\\n\")\n",
    "obs_avoidance = ObstacleAvoidance(2, 0.3, 0.3, 0.15, 0.05)\n",
    "\n",
    "x_obs = obs_avoidance.obstacle_avoidance(robot_point, obstacle_point, 0.1)\n",
    "print(f\"X_obs = {x_obs}\\n\")\n",
    "\n",
    "V = obs_avoidance.get_v()\n",
    "print(f\"V = {V}\\n\")\n",
    "\n",
    "J = obs_avoidance.get_J()\n",
    "print(f\"J = {J}\\n\")"
   ]
  },
  {
   "cell_type": "code",
   "execution_count": 186,
   "metadata": {},
   "outputs": [
    {
     "name": "stdout",
     "output_type": "stream",
     "text": [
      "X_obs = (array([-0.04395282]), array([-0.]))\n",
      "\n",
      "V = 0.4345982085070782\n",
      "\n",
      "J = [[ 1.4486607 -0.       ]]\n",
      "\n"
     ]
    }
   ],
   "source": [
    "robot_point = np.array([0, 0])\n",
    "obstacle_point = np.array([0.5, 0.0])\n",
    "\n",
    "obs_avoidance = ObstacleAvoidance(2, 0.3, 0.3, 0.15, 0.05)\n",
    "\n",
    "x_obs = obs_avoidance.obstacle_avoidance(robot_point, obstacle_point, 1.0)\n",
    "print(f\"X_obs = {x_obs}\\n\")\n",
    "\n",
    "V = obs_avoidance.get_v()\n",
    "print(f\"V = {V}\\n\")\n",
    "\n",
    "J = obs_avoidance.get_J()\n",
    "print(f\"J = {J}\\n\")"
   ]
  },
  {
   "cell_type": "code",
   "execution_count": 187,
   "metadata": {},
   "outputs": [
    {
     "data": {
      "text/plain": [
       "(-0.0745, 1.5645, -0.06831377461818827, 0.003253036886580394)"
      ]
     },
     "execution_count": 187,
     "metadata": {},
     "output_type": "execute_result"
    },
    {
     "data": {
      "image/png": "[encoded data removed]",
      "text/plain": [
       "<Figure size 640x480 with 1 Axes>"
      ]
     },
     "metadata": {},
     "output_type": "display_data"
    }
   ],
   "source": [
    "import matplotlib.pyplot as plt\n",
    "\n",
    "robot_point = np.array([0, 0])\n",
    "obstacle_point = np.array([0.5, 0.0])\n",
    "\n",
    "x_obs_list = []\n",
    "\n",
    "resolution = 0.01\n",
    "for gamma in np.arange(0, 1.5, resolution):\n",
    "    x_obs = obs_avoidance.obstacle_avoidance(robot_point, obstacle_point, gamma)\n",
    "    x_obs_list.append(x_obs)\n",
    "\n",
    "x_obs_list = np.array(x_obs_list)\n",
    "x_obs_list.shape\n",
    "\n",
    "x = [x[0, 0] for x in x_obs_list]\n",
    "\n",
    "plt.plot(np.arange(0, 1.5, resolution), x)\n",
    "plt.axis(\"equal\")"
   ]
  },
  {
   "cell_type": "code",
   "execution_count": 124,
   "metadata": {},
   "outputs": [
    {
     "data": {
      "image/png": "[encoded data removed]",
      "text/plain": [
       "<Figure size 640x480 with 1 Axes>"
      ]
     },
     "metadata": {},
     "output_type": "display_data"
    }
   ],
   "source": [
    "import numpy as np\n",
    "import matplotlib.pyplot as plt\n",
    "\n",
    "# Define the x values\n",
    "x = np.linspace(0, 10, 100)\n",
    "\n",
    "# Define the function y = exp(-x)\n",
    "y = np.exp(-x)\n",
    "\n",
    "# Create the plot\n",
    "plt.plot(x, y, label=r'$e^{-x}$')\n",
    "\n",
    "# Add title and labels\n",
    "plt.title('Plot of $e^{-x}$')\n",
    "plt.xlabel('x')\n",
    "plt.ylabel('y')\n",
    "\n",
    "# Add a grid\n",
    "plt.grid(True)\n",
    "\n",
    "# Add a legend\n",
    "plt.legend()\n",
    "\n",
    "# Show the plot\n",
    "plt.show()"
   ]
  }
 ],
 "metadata": {
  "kernelspec": {
   "display_name": "Python 3",
   "language": "python",
   "name": "python3"
  },
  "language_info": {
   "codemirror_mode": {
    "name": "ipython",
    "version": 3
   },
   "file_extension": ".py",
   "mimetype": "text/x-python",
   "name": "python",
   "nbconvert_exporter": "python",
   "pygments_lexer": "ipython3",
   "version": "3.8.10"
  }
 },
 "nbformat": 4,
 "nbformat_minor": 2
}
